{
  "nbformat": 4,
  "nbformat_minor": 0,
  "metadata": {
    "colab": {
      "provenance": [],
      "authorship_tag": "ABX9TyNMDD8eu5uxnceTE7C3Fu7V",
      "include_colab_link": true
    },
    "kernelspec": {
      "name": "python3",
      "display_name": "Python 3"
    },
    "language_info": {
      "name": "python"
    }
  },
  "cells": [
    {
      "cell_type": "markdown",
      "metadata": {
        "id": "view-in-github",
        "colab_type": "text"
      },
      "source": [
        "<a href=\"https://colab.research.google.com/github/aqsaaQaazi/PIAIC-Python/blob/main/letItGuess.ipynb\" target=\"_parent\"><img src=\"https://colab.research.google.com/assets/colab-badge.svg\" alt=\"Open In Colab\"/></a>"
      ]
    },
    {
      "cell_type": "code",
      "source": [
        "import random\n",
        "\n",
        "def letItGuess():\n",
        "    responses = [\"Yes! ✅\", \"No! ❌\", \"hmm.. Maybe 🤔\", \"Definitely! 🎉\", \"Ask again later... ⏳\"]\n",
        "\n",
        "    while True:\n",
        "        input(\"Ask a yes or no question: \")\n",
        "        print(\"🔮\", random.choice(responses))\n",
        "\n",
        "        again = input(\"Do you want to continue asking?\\n(Press Enter to continue) : \\n\").strip().lower() == \"yes\"\n",
        "        if again == \" \" or again == \"yes\":\n",
        "          continue\n",
        "        elif again == \"no\":\n",
        "          print(\"Had fun playing, Goodbye! 👋🏻\")\n",
        "          break\n",
        "\n",
        "letItGuess()\n"
      ],
      "metadata": {
        "colab": {
          "base_uri": "https://localhost:8080/"
        },
        "id": "o9RekJKkNiIw",
        "outputId": "4c098f15-88c6-43c0-8489-0d6587c42494"
      },
      "execution_count": null,
      "outputs": [
        {
          "name": "stdout",
          "output_type": "stream",
          "text": [
            "Ask a yes or no question: are you on earth?\n",
            "🔮 Yes! ✅\n",
            "Do you want to continue asking?\n",
            "(Press Enter to continue) : \n",
            "\n"
          ]
        }
      ]
    }
  ]
}