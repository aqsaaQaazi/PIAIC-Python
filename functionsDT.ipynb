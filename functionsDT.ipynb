{
  "nbformat": 4,
  "nbformat_minor": 0,
  "metadata": {
    "colab": {
      "provenance": [],
      "authorship_tag": "ABX9TyNMDD8eu5uxnceTE7C3Fu7V",
      "include_colab_link": true
    },
    "kernelspec": {
      "name": "python3",
      "display_name": "Python 3"
    },
    "language_info": {
      "name": "python"
    }
  },
  "cells": [
    {
      "cell_type": "markdown",
      "metadata": {
        "id": "view-in-github",
        "colab_type": "text"
      },
      "source": [
        "<a href=\"https://colab.research.google.com/github/aqsaaQaazi/PIAIC-Python/blob/main/functionsDT.ipynb\" target=\"_parent\"><img src=\"https://colab.research.google.com/assets/colab-badge.svg\" alt=\"Open In Colab\"/></a>"
      ]
    },
    {
      "cell_type": "code",
      "source": [
        "import random\n",
        "\n",
        "def letItGuess():\n",
        "    responses = [\"Yes! ✅\", \"No! ❌\", \"hmm.. Maybe 🤔\", \"Definitely! 🎉\", \"Ask again later... ⏳\"]\n",
        "\n",
        "    while True:\n",
        "        input(\"Ask a yes or no question: \")\n",
        "        print(\"🔮\", random.choice(responses))\n",
        "\n",
        "        again = input(\"Do you want to continue asking?\\n(Press Enter to continue) : \\n\").strip().lower() == \"yes\"\n",
        "        if again == \" \" or again == \"yes\":\n",
        "          continue\n",
        "        elif again == \"no\":\n",
        "          print(\"Had fun playing, Goodbye! 👋🏻\")\n",
        "          break\n",
        "\n",
        "letItGuess()\n"
      ],
      "metadata": {
        "id": "o9RekJKkNiIw"
      },
      "execution_count": null,
      "outputs": []
    }
  ]
}