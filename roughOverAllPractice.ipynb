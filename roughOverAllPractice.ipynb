{
  "nbformat": 4,
  "nbformat_minor": 0,
  "metadata": {
    "colab": {
      "provenance": [],
      "authorship_tag": "ABX9TyMBc36O6TO/ExC2vQLr8JvF",
      "include_colab_link": true
    },
    "kernelspec": {
      "name": "python3",
      "display_name": "Python 3"
    },
    "language_info": {
      "name": "python"
    }
  },
  "cells": [
    {
      "cell_type": "markdown",
      "metadata": {
        "id": "view-in-github",
        "colab_type": "text"
      },
      "source": [
        "<a href=\"https://colab.research.google.com/github/aqsaaQaazi/PIAIC-Python/blob/main/roughOverAllPractice.ipynb\" target=\"_parent\"><img src=\"https://colab.research.google.com/assets/colab-badge.svg\" alt=\"Open In Colab\"/></a>"
      ]
    },
    {
      "cell_type": "code",
      "execution_count": 2,
      "metadata": {
        "colab": {
          "base_uri": "https://localhost:8080/"
        },
        "id": "qsOI_pbn4KkT",
        "outputId": "b2dddc7c-df2c-4e09-88d7-5cde9ab95f9a"
      },
      "outputs": [
        {
          "output_type": "stream",
          "name": "stdout",
          "text": [
            "Hey There.!\n"
          ]
        }
      ],
      "source": [
        "# first ever print:\n",
        "\n",
        "print(\"Hey There.!\")"
      ]
    },
    {
      "cell_type": "code",
      "source": [
        "# syntax variables in py\n",
        "\n",
        "name = \"Ali\"       #naMe\n",
        "age = 19           # int\n",
        "pi = 3.14          #float\n",
        "\n",
        "# list / array  - mutable\n",
        "fruits = [\n",
        "    \"apple\",\n",
        "    \"mango\",\n",
        "    \"banana\",\n",
        "]\n",
        "\n",
        "# tuples (same as list but immutable)\n",
        "\n",
        "months_in_a_year = [\n",
        "    \"january\",\n",
        "    \"february\",\n",
        "    \"march\",\n",
        "    \"april\",\n",
        "    \"may\",\n",
        "    \"june\",\n",
        "    \"july\",\n",
        "    \"august\",\n",
        "    \"september\",\n",
        "    \"october\",\n",
        "    \"november\",\n",
        "    \"december\"\n",
        "]\n",
        "\n",
        "# dictionaries \"dicts\" same as objects in js/ts\n",
        "# has key-value pairs\n",
        "\n",
        "student = {\n",
        "    \"name\": \"ali\",\n",
        "    \"guardian\": \"ahmed\",\n",
        "    \"class\": \"primary\",\n",
        "    \"major\" : \"science\"\n",
        "}"
      ],
      "metadata": {
        "id": "Vz46CX0J4ciA"
      },
      "execution_count": 3,
      "outputs": []
    },
    {
      "cell_type": "code",
      "source": [
        "# asking user for input:\n",
        "\n",
        "name = input(\"What is your name? \")\n",
        "print(\"Hello \" + name + \"!\")\n",
        "\n",
        "age = input(\"How old are you? \")\n",
        "print(\"You are \" + age + \" years old.\")"
      ],
      "metadata": {
        "colab": {
          "base_uri": "https://localhost:8080/"
        },
        "id": "SqS_d8le6vNO",
        "outputId": "f464c742-04a5-4ec8-9aee-1730c457df4c"
      },
      "execution_count": 5,
      "outputs": [
        {
          "output_type": "stream",
          "name": "stdout",
          "text": [
            "What is your name? ali\n",
            "Hello ali!\n",
            "How old are you? 17\n",
            "You are 17 years old.\n"
          ]
        }
      ]
    },
    {
      "cell_type": "code",
      "source": [
        "# if else statements\n",
        "\n",
        "age = int(input(\"How old are you? \"))\n",
        "\n",
        "if age >= 18:\n",
        "    print(\"You are an adult.\")\n",
        "elif age >= 60:\n",
        "    print(\"You are a senior citizen.\")\n",
        "else:\n",
        "    print(\"You are a minor.\")"
      ],
      "metadata": {
        "colab": {
          "base_uri": "https://localhost:8080/"
        },
        "id": "SFnjKU5465zu",
        "outputId": "d97157dc-97e6-4457-a11f-d4012019fd9c"
      },
      "execution_count": 7,
      "outputs": [
        {
          "output_type": "stream",
          "name": "stdout",
          "text": [
            "How old are you? 31\n",
            "You are an adult.\n"
          ]
        }
      ]
    },
    {
      "cell_type": "code",
      "source": [
        "# for loops in python:\n",
        "# Agar tumhe kisi list ke andar har cheez par loop lagana ho, toh for loop use karo.\n",
        "\n",
        "# fruits list is declared earlier in a cell\n",
        "for fruit in fruits:\n",
        "    print(fruit)\n",
        "\n",
        "\n",
        "# while loops\n",
        "# Agar tumhe tab tak loop chalana ho jab tak ek condition true ho, toh while loop use karo.\n",
        "\n",
        "x = 1\n",
        "while x <= 5:\n",
        "    print(x)\n",
        "    x += 1\n"
      ],
      "metadata": {
        "colab": {
          "base_uri": "https://localhost:8080/"
        },
        "collapsed": true,
        "id": "F5sNXqC77jHQ",
        "outputId": "637a806b-86d4-4f43-8088-a9fbea0df045"
      },
      "execution_count": 11,
      "outputs": [
        {
          "output_type": "stream",
          "name": "stdout",
          "text": [
            "apple\n",
            "mango\n",
            "banana\n",
            "1\n",
            "2\n",
            "3\n",
            "4\n",
            "5\n"
          ]
        }
      ]
    },
    {
      "cell_type": "code",
      "source": [
        "# funxtions in python\n",
        "\n",
        "def greet(name):\n",
        "    print(\"Hello \" + name + \"!\")\n",
        "\n",
        "greet(name) # arg can be a string as well but i used a variable declared earlier cells"
      ],
      "metadata": {
        "colab": {
          "base_uri": "https://localhost:8080/"
        },
        "id": "4sb3uWcM8CwA",
        "outputId": "4f1a8c6d-fb1c-4c56-891f-02ad6de19f03"
      },
      "execution_count": 14,
      "outputs": [
        {
          "output_type": "stream",
          "name": "stdout",
          "text": [
            "Hello ali!\n"
          ]
        }
      ]
    },
    {
      "cell_type": "code",
      "source": [
        "# list methods in python:\n",
        "\n",
        "fruits\n",
        "\n",
        "fruits.append(\"orange\") #adds orange in the list\n",
        "fruits.remove(\"orange\") #clearly says wht it does\n",
        "fruits.sort()\n",
        "fruits.pop(2) #removes the 2nd index forom list\n",
        "print(fruits)"
      ],
      "metadata": {
        "colab": {
          "base_uri": "https://localhost:8080/"
        },
        "id": "P6KtUUXz-R-I",
        "outputId": "fa8d1d35-ba49-4533-97b6-97eb2a9713c6"
      },
      "execution_count": 26,
      "outputs": [
        {
          "output_type": "stream",
          "name": "stdout",
          "text": [
            "['apple', 'mango']\n"
          ]
        }
      ]
    },
    {
      "cell_type": "code",
      "source": [
        "# error/exception handling in python:\n",
        "# Try-except\n",
        "\n",
        "try:                                 # woh code jo error de skta hai\n",
        "  x = int(input(\"ek muber likho.\"))\n",
        "  print(10/x)\n",
        "except ZeroDivisionError:            # agr error aya toh yeh chkygaa\n",
        "  print(\"0 se divide nhin krskty\")\n",
        "except ValueError:                  # agr phrse error aya toh yeh chlyga\n",
        "  print(\"sahi se number likho\")"
      ],
      "metadata": {
        "colab": {
          "base_uri": "https://localhost:8080/"
        },
        "id": "IXHdkKvO_40-",
        "outputId": "09cb9246-a385-48f8-fcba-1f60419ec74f"
      },
      "execution_count": 28,
      "outputs": [
        {
          "output_type": "stream",
          "name": "stdout",
          "text": [
            "ek muber likho.78\n",
            "0.1282051282051282\n"
          ]
        }
      ]
    },
    {
      "cell_type": "code",
      "source": [
        "# METHODS\n",
        "\n",
        "# string\n",
        "\n",
        "greet = \"hello how are you\"\n",
        "\n",
        "print(greet.upper())                 #turns the string into uppercase\n",
        "print(greet.replace(\"hello\", \"hi\" )) #replaces hello with hi.\n",
        "print(greet.lower())                 #into lowercase\n",
        "print(greet.capitalize())            #capitalizes the first letter of greet (sentence).\n",
        "print(greet.title())                 #into pascal case\n",
        "print(greet.strip())                 #removes unnecessary spaces from beginning and in the end\n",
        "print(greet.split(\" \"))              # jahn jahn space ho, wahn wahn se string ko split krke list mn store krna.\n",
        "                                     # (jo operator use kiya h split method mn usi k thru split hoga)\n",
        "salom = [\"hello\" , \"i\", \"am\", \"learning\", \"python\"]\n",
        "print(\" \".join(salom))               # joins the list into a string\n",
        "print(greet.find(\"h\"))               #finds the index of h in greet.\n",
        "print(greet.count(\"u\"))              # finds the counts of arument string"
      ],
      "metadata": {
        "colab": {
          "base_uri": "https://localhost:8080/"
        },
        "id": "am52t5pZBB69",
        "outputId": "e74a02eb-e540-46ee-9b69-bab01d06f9b7"
      },
      "execution_count": 50,
      "outputs": [
        {
          "output_type": "stream",
          "name": "stdout",
          "text": [
            "HELLO HOW ARE YOU\n",
            "hi how are you\n",
            "hello how are you\n",
            "Hello how are you\n",
            "Hello How Are You\n",
            "hello how are you\n",
            "['hello', 'how', 'are', 'you']\n",
            "hello i am learning python\n",
            "0\n",
            "1\n"
          ]
        }
      ]
    },
    {
      "cell_type": "code",
      "source": [
        "# METHODS\n",
        "\n",
        "# LIST\n",
        "\n",
        "\n",
        "\n",
        "smartphones = [\n",
        "    \"Samsung\",\n",
        "    \"iphone\",\n",
        "    \"Google Pixel\",\n",
        "    \"ZTE\",\n",
        "    \"HTC\",\n",
        "    \"Redmi\",\n",
        "    \"xiaomi\",\n",
        "    \"realme\",\n",
        "    \"infinx\"\n",
        "]\n",
        "features = [\n",
        "    \"bluetooth\", \"portrait\"\n",
        "]\n",
        "smartphones.append(\"android\")                   #adds into list\n",
        "smartphones.extend(features)                    # merges two lists\n",
        "smartphones.extend([\"panorama\", \"builtin AI\"])  # another method\n",
        "smartphones.insert(-2, \"calculator\")            # inserts string at a specific index\n",
        "smartphones.remove(\"android\")                   # removes android from the list\n",
        "smartphones.pop()                               # removes the index given, default 0\n",
        "smartphones.count(\"a\")                          # tells how many time the given value is repeated in list\n",
        "smartphones.sort()                              # sorts the array/ list alphabetically.\n",
        "smartphones.reverse()                           # reverses the array/ list\n",
        "smartphones.copy()                              # copies the array/ list\n",
        "# smartphones.clear()                           # clears the array/ list\n",
        "\n",
        "\n",
        "print(smartphones)"
      ],
      "metadata": {
        "colab": {
          "base_uri": "https://localhost:8080/"
        },
        "id": "x4khhmutIYzq",
        "outputId": "b5dc6583-867d-4023-b797-2bcea9d33872"
      },
      "execution_count": 22,
      "outputs": [
        {
          "output_type": "stream",
          "name": "stdout",
          "text": [
            "['xiaomi', 'realme', 'portrait', 'panorama', 'iphone', 'infinx', 'calculator', 'bluetooth', 'ZTE', 'Samsung', 'Redmi', 'HTC', 'Google Pixel']\n"
          ]
        }
      ]
    },
    {
      "cell_type": "code",
      "source": [
        "# DICTS\n",
        "\n",
        "student = {\n",
        "    \"name\": \"Ahmed\",\n",
        "    \"age\": 16,\n",
        "    \"grade\": \"A+\",\n",
        "    \"subject\": \"Math\"\n",
        "}\n",
        "print(student)\n",
        "\n",
        "# types of accessing values in dicts:\n",
        "# USING BRACKETS:\n",
        "# this method might throw error if the key isnt find.\n",
        "print(student[\"name\"])\n",
        "\n",
        "# using get method\n",
        "# this method wont throw error when key is missing, istyead it will return default value\n",
        "print(student.get(\"city\", \"not specified\" )) # not specified is the default throwback\n",
        "\n",
        "# ACCESSING ALL KEYS & VALUES:\n",
        "print(student.keys())   # dict_keys(['name', 'age', 'grade', 'subject'])\n",
        "print(student.values()) # dict_values(['Ahmed', 16, 'A+', 'Math'])\n",
        "print(student.items())  # dict_items([('name', 'Ahmed'), ('age', 16), ('grade', 'A+'), ('subject', 'Math')])\n",
        "\n",
        "# updating an existing value\n",
        "student[\"grade\"] = \"A\"\n",
        "print(student)\n",
        "\n",
        "# ADD a new pair.\n",
        "student[\"city\"] = \"Karachi\"\n",
        "print(student)\n",
        "\n",
        "\n",
        "# update method: can update and add a pair\n",
        "student.update({\"name\": \"Ali\", \"rollNo.\" : 165884 })\n",
        "print(student)\n",
        "\n",
        "# DELETING KEYS\n",
        "\n",
        "\n",
        "# DEL method\n",
        "del student[\"age\"]\n",
        "print(student)\n",
        "\n",
        "# retrives the deleted value using pop\n",
        "deleted_value = student.pop(\"subject\")\n",
        "print(deleted_value)\n",
        "\n",
        "\n",
        "# removing a pair\n",
        "student.pop(\"city\")\n",
        "print(student)\n",
        "\n",
        "# .popitem() method removes last item in the list\n",
        "\n"
      ],
      "metadata": {
        "id": "GJihx0gsk2mM",
        "outputId": "9d5e7089-3c0f-4779-ac12-4910fd79c2b8",
        "colab": {
          "base_uri": "https://localhost:8080/"
        }
      },
      "execution_count": 33,
      "outputs": [
        {
          "output_type": "stream",
          "name": "stdout",
          "text": [
            "{'name': 'Ahmed', 'age': 16, 'grade': 'A+', 'subject': 'Math'}\n",
            "Ahmed\n",
            "not specified\n",
            "dict_keys(['name', 'age', 'grade', 'subject'])\n",
            "dict_values(['Ahmed', 16, 'A+', 'Math'])\n",
            "dict_items([('name', 'Ahmed'), ('age', 16), ('grade', 'A+'), ('subject', 'Math')])\n",
            "{'name': 'Ahmed', 'age': 16, 'grade': 'A', 'subject': 'Math'}\n",
            "{'name': 'Ahmed', 'age': 16, 'grade': 'A', 'subject': 'Math', 'city': 'Karachi'}\n",
            "{'name': 'Ali', 'age': 16, 'grade': 'A', 'subject': 'Math', 'city': 'Karachi', 'rollNo.': 165884}\n",
            "{'name': 'Ali', 'grade': 'A', 'subject': 'Math', 'city': 'Karachi', 'rollNo.': 165884}\n",
            "Math\n",
            "{'name': 'Ali', 'grade': 'A', 'rollNo.': 165884}\n"
          ]
        }
      ]
    },
    {
      "cell_type": "code",
      "source": [
        "# LOOPS IN DICTS\n",
        "\n",
        "\n",
        "# loop over keys\n",
        "for key in student:\n",
        "  print(key)\n",
        "\n",
        "# loop over values\n",
        "for value in student.values():\n",
        "  print(value)\n",
        "\n",
        "\n",
        "# loop for both\n",
        "\n",
        "for key, value in student.items():\n",
        "  print(f\"{key} => {value}\")"
      ],
      "metadata": {
        "id": "4TA8asxanamG",
        "outputId": "603cb33e-4016-4b6c-e2de-784d150bdc3f",
        "colab": {
          "base_uri": "https://localhost:8080/"
        }
      },
      "execution_count": 38,
      "outputs": [
        {
          "output_type": "stream",
          "name": "stdout",
          "text": [
            "name\n",
            "grade\n",
            "rollNo.\n",
            "Ali\n",
            "A\n",
            "165884\n",
            "name => Ali\n",
            "grade => A\n",
            "rollNo. => 165884\n"
          ]
        }
      ]
    },
    {
      "cell_type": "code",
      "source": [],
      "metadata": {
        "id": "tGzfxmzVoFxO"
      },
      "execution_count": null,
      "outputs": []
    }
  ]
}