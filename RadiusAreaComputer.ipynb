{
  "nbformat": 4,
  "nbformat_minor": 0,
  "metadata": {
    "colab": {
      "provenance": [],
      "authorship_tag": "ABX9TyOW7oKpLsTz4T3n4iDvDg3E",
      "include_colab_link": true
    },
    "kernelspec": {
      "name": "python3",
      "display_name": "Python 3"
    },
    "language_info": {
      "name": "python"
    }
  },
  "cells": [
    {
      "cell_type": "markdown",
      "metadata": {
        "id": "view-in-github",
        "colab_type": "text"
      },
      "source": [
        "<a href=\"https://colab.research.google.com/github/aqsaaQaazi/PIAIC-Python/blob/main/RadiusAreaComputer.ipynb\" target=\"_parent\"><img src=\"https://colab.research.google.com/assets/colab-badge.svg\" alt=\"Open In Colab\"/></a>"
      ]
    },
    {
      "cell_type": "code",
      "execution_count": 1,
      "metadata": {
        "colab": {
          "base_uri": "https://localhost:8080/"
        },
        "id": "12e-oBLqLyCF",
        "outputId": "02526d52-1662-4f73-c493-3c78eb600f7e"
      },
      "outputs": [
        {
          "output_type": "stream",
          "name": "stdout",
          "text": [
            "Input the radius of the circle : 5.8\n",
            "The area of the circle is:  105.68317686676065\n"
          ]
        }
      ],
      "source": [
        "# accepts the radius of a circle from user and computes the area.\n",
        "from math import pi\n",
        "\n",
        "radius = float(input (\"Input the radius of the circle : \"))\n",
        "\n",
        "# formula: Area = pi x radius**\n",
        "print (\"The area of the circle is: \" , pi * radius**2)\n"
      ]
    }
  ]
}