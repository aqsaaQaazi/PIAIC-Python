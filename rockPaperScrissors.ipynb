{
  "nbformat": 4,
  "nbformat_minor": 0,
  "metadata": {
    "colab": {
      "provenance": [],
      "authorship_tag": "ABX9TyPfSFo5CnyBrNsfNKjpJjNd",
      "include_colab_link": true
    },
    "kernelspec": {
      "name": "python3",
      "display_name": "Python 3"
    },
    "language_info": {
      "name": "python"
    }
  },
  "cells": [
    {
      "cell_type": "markdown",
      "metadata": {
        "id": "view-in-github",
        "colab_type": "text"
      },
      "source": [
        "<a href=\"https://colab.research.google.com/github/aqsaaQaazi/PIAIC-Python/blob/main/rockPaperScrissors.ipynb\" target=\"_parent\"><img src=\"https://colab.research.google.com/assets/colab-badge.svg\" alt=\"Open In Colab\"/></a>"
      ]
    },
    {
      "cell_type": "code",
      "source": [
        "import random\n",
        "\n",
        "# main function\n",
        "\n",
        "def main():\n",
        "\n",
        "  print(\"\\n🎮 Welcome to Rock-Paper-Scissors! 🎮\\n\")\n",
        "\n",
        "  choices= [\"rock\", \"paper\" , \"scissors\"]\n",
        "  userChoice = input(\"Choose Rock, Paper or Scissors:\").strip().lower()\n",
        "  botChoice = random.choice(choices)\n",
        "\n",
        "  print(f\"Bot chose {botChoice.capitalize()}\")\n",
        "\n",
        "  if userChoice == botChoice:\n",
        "    print(\"It's a tie!\")\n",
        "  elif (\n",
        "        (userChoice == \"rock\" and botChoice == \"scissors\") or\n",
        "        (userChoice == \"paper\" and botChoice == \"rock\") or\n",
        "        (userChoice == \"scissors\" and botChoice == \"paper\")\n",
        "       ):\n",
        "    print(\"You win!\")\n",
        "  else:\n",
        "    print(\"You lose!\")\n",
        "\n",
        "main()"
      ],
      "metadata": {
        "colab": {
          "base_uri": "https://localhost:8080/"
        },
        "id": "B_bDNAsaoQOU",
        "outputId": "08260158-38be-477f-8d72-54718514519d"
      },
      "execution_count": 3,
      "outputs": [
        {
          "output_type": "stream",
          "name": "stdout",
          "text": [
            "Choose Rock, Paper or Scissors:paper\n",
            "Bot chose Scissors\n",
            "You lose!\n"
          ]
        }
      ]
    }
  ]
}