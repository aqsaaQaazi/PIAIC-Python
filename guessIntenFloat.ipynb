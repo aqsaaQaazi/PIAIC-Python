{
  "nbformat": 4,
  "nbformat_minor": 0,
  "metadata": {
    "colab": {
      "provenance": [],
      "authorship_tag": "ABX9TyOFs/1yP9NWm9TbgXwCaiP+",
      "include_colab_link": true
    },
    "kernelspec": {
      "name": "python3",
      "display_name": "Python 3"
    },
    "language_info": {
      "name": "python"
    }
  },
  "cells": [
    {
      "cell_type": "markdown",
      "metadata": {
        "id": "view-in-github",
        "colab_type": "text"
      },
      "source": [
        "<a href=\"https://colab.research.google.com/github/aqsaaQaazi/PIAIC-Python/blob/main/guessIntenFloat.ipynb\" target=\"_parent\"><img src=\"https://colab.research.google.com/assets/colab-badge.svg\" alt=\"Open In Colab\"/></a>"
      ]
    },
    {
      "cell_type": "code",
      "execution_count": null,
      "metadata": {
        "id": "_mJjLSJxPZEO"
      },
      "outputs": [],
      "source": [
        "# a program which decides weather the user Input is a negative or positive number\n",
        "\n",
        "\n",
        "initial_answer = input(\"Decimal? (yes/no)\".strip().lower() )\n",
        "\n",
        "if initial_answer == \"yes\":\n",
        "    number = float(input(\"Enter a number: \"))\n",
        "\n",
        "    if number > 0:\n",
        "          print(\"The number is Positive.\")\n",
        "    elif number < 0:\n",
        "          print(\"The number is Negative.\")\n",
        "    else:\n",
        "          print(\"The number is Zero.\")\n",
        "\n",
        "elif initial_answer == \"no\":\n",
        "  print(\"Okay! let's Continue.\")\n",
        "  number = int(input(\"Enter a number: \"))\n",
        "\n",
        "  if number > 0:\n",
        "      print(\"The number is Positive.\")\n",
        "  elif number < 0:\n",
        "      print(\"The number is Negative.\")\n",
        "  else:\n",
        "      print(\"The number is Zero.\")\n",
        "else:\n",
        "  print(\"Answer with Yes or No\", initial_answer)\n",
        "\n",
        "\n",
        "\n",
        "\n"
      ]
    }
  ]
}