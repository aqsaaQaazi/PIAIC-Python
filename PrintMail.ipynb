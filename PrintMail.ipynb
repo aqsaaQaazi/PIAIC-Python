{
  "nbformat": 4,
  "nbformat_minor": 0,
  "metadata": {
    "colab": {
      "provenance": [],
      "authorship_tag": "ABX9TyO17ZTyyKoDNBjaYEV/kQsm",
      "include_colab_link": true
    },
    "kernelspec": {
      "name": "python3",
      "display_name": "Python 3"
    },
    "language_info": {
      "name": "python"
    }
  },
  "cells": [
    {
      "cell_type": "markdown",
      "metadata": {
        "id": "view-in-github",
        "colab_type": "text"
      },
      "source": [
        "<a href=\"https://colab.research.google.com/github/aqsaaQaazi/PIAIC-Python/blob/main/PrintMail.ipynb\" target=\"_parent\"><img src=\"https://colab.research.google.com/assets/colab-badge.svg\" alt=\"Open In Colab\"/></a>"
      ]
    },
    {
      "cell_type": "code",
      "execution_count": 1,
      "metadata": {
        "id": "h_N8B_rFgia3",
        "colab": {
          "base_uri": "https://localhost:8080/"
        },
        "outputId": "79a3ae3b-48bc-4445-d36a-255e63a70053"
      },
      "outputs": [
        {
          "output_type": "stream",
          "name": "stdout",
          "text": [
            "We'd Love to Hear your Feedback\n",
            "Dear Lily whitman\n",
            "I hope you're doing well! We truly appreciate your support and would love to hear about your experience with Nexify Tech Event Scheduler.\n",
            "Your feedback helps us improve and continue providing the best service possible.\n",
            "\n",
            "If you could take a moment to leave a quick review, it would mean a lot to us! You can share your thoughts here: https://localhost:2772\n",
            "Thank you for being a valued customer. We look forward to serving you again!\n",
            "\n",
            "Best regards,\n",
            "John Doe\n",
            "CEO Nexify Tech Event Scheduler\n"
          ]
        }
      ],
      "source": [
        "# sending a mail to a customer to drop review:\n",
        "\n",
        "sender_name = \"John Doe\";\n",
        "user_name = 'Lily whitman';\n",
        "link = \"https://localhost:2772\"\n",
        "company_name = \"Nexify Tech Event Scheduler\"\n",
        "\n",
        "mail_subject = \"We'd Love to Hear your Feedback\";\n",
        "greet = f\"Dear \"+ user_name;\n",
        "message = f\"\"\"I hope you're doing well! We truly appreciate your support and would love to hear about your experience with {company_name}.\n",
        "Your feedback helps us improve and continue providing the best service possible.\n",
        "\n",
        "If you could take a moment to leave a quick review, it would mean a lot to us! You can share your thoughts here: {link}\n",
        "Thank you for being a valued customer. We look forward to serving you again!\n",
        "\n",
        "Best regards,\n",
        "{sender_name}\n",
        "CEO {company_name}\"\"\"\n",
        "\n",
        "print(mail_subject)\n",
        "print(greet)\n",
        "print(message)\n"
      ]
    },
    {
      "cell_type": "code",
      "source": [],
      "metadata": {
        "id": "jEp3V5MHC3tF"
      },
      "execution_count": null,
      "outputs": []
    }
  ]
}